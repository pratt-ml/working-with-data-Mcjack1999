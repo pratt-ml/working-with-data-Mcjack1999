{
 "cells": [
  {
   "cell_type": "code",
   "execution_count": 3,
   "id": "98c1d87b-db92-45eb-b7d2-b98f9d870280",
   "metadata": {},
   "outputs": [],
   "source": [
    "import pandas as pd"
   ]
  },
  {
   "cell_type": "code",
   "execution_count": 5,
   "id": "56ec2e28-7982-42e5-8acb-128458f21bd9",
   "metadata": {},
   "outputs": [],
   "source": [
    "import numpy as np"
   ]
  },
  {
   "cell_type": "code",
   "execution_count": 7,
   "id": "2e4ca70e-820b-4583-abf9-1fca3bc3a372",
   "metadata": {},
   "outputs": [],
   "source": [
    "import matplotlib.pyplot as plt\n",
    "import seaborn as sns"
   ]
  },
  {
   "cell_type": "code",
   "execution_count": null,
   "id": "39624509-6440-477a-9a6c-dda5b0f80bb1",
   "metadata": {},
   "outputs": [],
   "source": [
    "Moma_artists = pd.read_csv(\"Downloads/Artists.csv\")"
   ]
  },
  {
   "cell_type": "code",
   "execution_count": 9,
   "id": "0ca98c47-4a4d-42c1-90bf-34c2aaac8515",
   "metadata": {},
   "outputs": [],
   "source": [
    "Moma_artworks = pd.read_csv(\"Downloads/Artworks.csv\")"
   ]
  },
  {
   "cell_type": "code",
   "execution_count": 17,
   "id": "6154227e-a454-4ffb-8830-29b7cf6318c9",
   "metadata": {},
   "outputs": [
    {
     "ename": "TypeError",
     "evalue": "object of type 'float' has no len()",
     "output_type": "error",
     "traceback": [
      "\u001b[0;31m---------------------------------------------------------------------------\u001b[0m",
      "\u001b[0;31mTypeError\u001b[0m                                 Traceback (most recent call last)",
      "Cell \u001b[0;32mIn[17], line 1\u001b[0m\n\u001b[0;32m----> 1\u001b[0m Moma_artworks[Moma_artworks[\u001b[38;5;124m'\u001b[39m\u001b[38;5;124mGender\u001b[39m\u001b[38;5;124m'\u001b[39m]\u001b[38;5;241m.\u001b[39mapply(\u001b[38;5;28mlen\u001b[39m) \u001b[38;5;241m>\u001b[39m \u001b[38;5;241m10\u001b[39m]\n",
      "File \u001b[0;32m/opt/anaconda3/lib/python3.12/site-packages/pandas/core/series.py:4924\u001b[0m, in \u001b[0;36mSeries.apply\u001b[0;34m(self, func, convert_dtype, args, by_row, **kwargs)\u001b[0m\n\u001b[1;32m   4789\u001b[0m \u001b[38;5;28;01mdef\u001b[39;00m \u001b[38;5;21mapply\u001b[39m(\n\u001b[1;32m   4790\u001b[0m     \u001b[38;5;28mself\u001b[39m,\n\u001b[1;32m   4791\u001b[0m     func: AggFuncType,\n\u001b[0;32m   (...)\u001b[0m\n\u001b[1;32m   4796\u001b[0m     \u001b[38;5;241m*\u001b[39m\u001b[38;5;241m*\u001b[39mkwargs,\n\u001b[1;32m   4797\u001b[0m ) \u001b[38;5;241m-\u001b[39m\u001b[38;5;241m>\u001b[39m DataFrame \u001b[38;5;241m|\u001b[39m Series:\n\u001b[1;32m   4798\u001b[0m \u001b[38;5;250m    \u001b[39m\u001b[38;5;124;03m\"\"\"\u001b[39;00m\n\u001b[1;32m   4799\u001b[0m \u001b[38;5;124;03m    Invoke function on values of Series.\u001b[39;00m\n\u001b[1;32m   4800\u001b[0m \n\u001b[0;32m   (...)\u001b[0m\n\u001b[1;32m   4915\u001b[0m \u001b[38;5;124;03m    dtype: float64\u001b[39;00m\n\u001b[1;32m   4916\u001b[0m \u001b[38;5;124;03m    \"\"\"\u001b[39;00m\n\u001b[1;32m   4917\u001b[0m     \u001b[38;5;28;01mreturn\u001b[39;00m SeriesApply(\n\u001b[1;32m   4918\u001b[0m         \u001b[38;5;28mself\u001b[39m,\n\u001b[1;32m   4919\u001b[0m         func,\n\u001b[1;32m   4920\u001b[0m         convert_dtype\u001b[38;5;241m=\u001b[39mconvert_dtype,\n\u001b[1;32m   4921\u001b[0m         by_row\u001b[38;5;241m=\u001b[39mby_row,\n\u001b[1;32m   4922\u001b[0m         args\u001b[38;5;241m=\u001b[39margs,\n\u001b[1;32m   4923\u001b[0m         kwargs\u001b[38;5;241m=\u001b[39mkwargs,\n\u001b[0;32m-> 4924\u001b[0m     )\u001b[38;5;241m.\u001b[39mapply()\n",
      "File \u001b[0;32m/opt/anaconda3/lib/python3.12/site-packages/pandas/core/apply.py:1427\u001b[0m, in \u001b[0;36mSeriesApply.apply\u001b[0;34m(self)\u001b[0m\n\u001b[1;32m   1424\u001b[0m     \u001b[38;5;28;01mreturn\u001b[39;00m \u001b[38;5;28mself\u001b[39m\u001b[38;5;241m.\u001b[39mapply_compat()\n\u001b[1;32m   1426\u001b[0m \u001b[38;5;66;03m# self.func is Callable\u001b[39;00m\n\u001b[0;32m-> 1427\u001b[0m \u001b[38;5;28;01mreturn\u001b[39;00m \u001b[38;5;28mself\u001b[39m\u001b[38;5;241m.\u001b[39mapply_standard()\n",
      "File \u001b[0;32m/opt/anaconda3/lib/python3.12/site-packages/pandas/core/apply.py:1507\u001b[0m, in \u001b[0;36mSeriesApply.apply_standard\u001b[0;34m(self)\u001b[0m\n\u001b[1;32m   1501\u001b[0m \u001b[38;5;66;03m# row-wise access\u001b[39;00m\n\u001b[1;32m   1502\u001b[0m \u001b[38;5;66;03m# apply doesn't have a `na_action` keyword and for backward compat reasons\u001b[39;00m\n\u001b[1;32m   1503\u001b[0m \u001b[38;5;66;03m# we need to give `na_action=\"ignore\"` for categorical data.\u001b[39;00m\n\u001b[1;32m   1504\u001b[0m \u001b[38;5;66;03m# TODO: remove the `na_action=\"ignore\"` when that default has been changed in\u001b[39;00m\n\u001b[1;32m   1505\u001b[0m \u001b[38;5;66;03m#  Categorical (GH51645).\u001b[39;00m\n\u001b[1;32m   1506\u001b[0m action \u001b[38;5;241m=\u001b[39m \u001b[38;5;124m\"\u001b[39m\u001b[38;5;124mignore\u001b[39m\u001b[38;5;124m\"\u001b[39m \u001b[38;5;28;01mif\u001b[39;00m \u001b[38;5;28misinstance\u001b[39m(obj\u001b[38;5;241m.\u001b[39mdtype, CategoricalDtype) \u001b[38;5;28;01melse\u001b[39;00m \u001b[38;5;28;01mNone\u001b[39;00m\n\u001b[0;32m-> 1507\u001b[0m mapped \u001b[38;5;241m=\u001b[39m obj\u001b[38;5;241m.\u001b[39m_map_values(\n\u001b[1;32m   1508\u001b[0m     mapper\u001b[38;5;241m=\u001b[39mcurried, na_action\u001b[38;5;241m=\u001b[39maction, convert\u001b[38;5;241m=\u001b[39m\u001b[38;5;28mself\u001b[39m\u001b[38;5;241m.\u001b[39mconvert_dtype\n\u001b[1;32m   1509\u001b[0m )\n\u001b[1;32m   1511\u001b[0m \u001b[38;5;28;01mif\u001b[39;00m \u001b[38;5;28mlen\u001b[39m(mapped) \u001b[38;5;129;01mand\u001b[39;00m \u001b[38;5;28misinstance\u001b[39m(mapped[\u001b[38;5;241m0\u001b[39m], ABCSeries):\n\u001b[1;32m   1512\u001b[0m     \u001b[38;5;66;03m# GH#43986 Need to do list(mapped) in order to get treated as nested\u001b[39;00m\n\u001b[1;32m   1513\u001b[0m     \u001b[38;5;66;03m#  See also GH#25959 regarding EA support\u001b[39;00m\n\u001b[1;32m   1514\u001b[0m     \u001b[38;5;28;01mreturn\u001b[39;00m obj\u001b[38;5;241m.\u001b[39m_constructor_expanddim(\u001b[38;5;28mlist\u001b[39m(mapped), index\u001b[38;5;241m=\u001b[39mobj\u001b[38;5;241m.\u001b[39mindex)\n",
      "File \u001b[0;32m/opt/anaconda3/lib/python3.12/site-packages/pandas/core/base.py:921\u001b[0m, in \u001b[0;36mIndexOpsMixin._map_values\u001b[0;34m(self, mapper, na_action, convert)\u001b[0m\n\u001b[1;32m    918\u001b[0m \u001b[38;5;28;01mif\u001b[39;00m \u001b[38;5;28misinstance\u001b[39m(arr, ExtensionArray):\n\u001b[1;32m    919\u001b[0m     \u001b[38;5;28;01mreturn\u001b[39;00m arr\u001b[38;5;241m.\u001b[39mmap(mapper, na_action\u001b[38;5;241m=\u001b[39mna_action)\n\u001b[0;32m--> 921\u001b[0m \u001b[38;5;28;01mreturn\u001b[39;00m algorithms\u001b[38;5;241m.\u001b[39mmap_array(arr, mapper, na_action\u001b[38;5;241m=\u001b[39mna_action, convert\u001b[38;5;241m=\u001b[39mconvert)\n",
      "File \u001b[0;32m/opt/anaconda3/lib/python3.12/site-packages/pandas/core/algorithms.py:1743\u001b[0m, in \u001b[0;36mmap_array\u001b[0;34m(arr, mapper, na_action, convert)\u001b[0m\n\u001b[1;32m   1741\u001b[0m values \u001b[38;5;241m=\u001b[39m arr\u001b[38;5;241m.\u001b[39mastype(\u001b[38;5;28mobject\u001b[39m, copy\u001b[38;5;241m=\u001b[39m\u001b[38;5;28;01mFalse\u001b[39;00m)\n\u001b[1;32m   1742\u001b[0m \u001b[38;5;28;01mif\u001b[39;00m na_action \u001b[38;5;129;01mis\u001b[39;00m \u001b[38;5;28;01mNone\u001b[39;00m:\n\u001b[0;32m-> 1743\u001b[0m     \u001b[38;5;28;01mreturn\u001b[39;00m lib\u001b[38;5;241m.\u001b[39mmap_infer(values, mapper, convert\u001b[38;5;241m=\u001b[39mconvert)\n\u001b[1;32m   1744\u001b[0m \u001b[38;5;28;01melse\u001b[39;00m:\n\u001b[1;32m   1745\u001b[0m     \u001b[38;5;28;01mreturn\u001b[39;00m lib\u001b[38;5;241m.\u001b[39mmap_infer_mask(\n\u001b[1;32m   1746\u001b[0m         values, mapper, mask\u001b[38;5;241m=\u001b[39misna(values)\u001b[38;5;241m.\u001b[39mview(np\u001b[38;5;241m.\u001b[39muint8), convert\u001b[38;5;241m=\u001b[39mconvert\n\u001b[1;32m   1747\u001b[0m     )\n",
      "File \u001b[0;32mlib.pyx:2972\u001b[0m, in \u001b[0;36mpandas._libs.lib.map_infer\u001b[0;34m()\u001b[0m\n",
      "\u001b[0;31mTypeError\u001b[0m: object of type 'float' has no len()"
     ]
    }
   ],
   "source": [
    "Moma_artworks[Moma_artworks['Gender'].apply(len) > 10] "
   ]
  },
  {
   "cell_type": "code",
   "execution_count": null,
   "id": "88e155a4-ff9a-40d4-8920-033d871509f1",
   "metadata": {},
   "outputs": [],
   "source": [
    "Moma_artists.head(10)"
   ]
  },
  {
   "cell_type": "code",
   "execution_count": null,
   "id": "e5b3bb86-1056-4fd4-ae66-cdef6dd2e17d",
   "metadata": {},
   "outputs": [],
   "source": [
    "Moma_artworks.head(10)"
   ]
  },
  {
   "cell_type": "code",
   "execution_count": null,
   "id": "08f14add-dbeb-4e69-a266-14ec12a39865",
   "metadata": {},
   "outputs": [],
   "source": [
    "Moma_artists.info()"
   ]
  },
  {
   "cell_type": "code",
   "execution_count": null,
   "id": "c5da9e5f-d84c-4c5c-b21d-7ee766397376",
   "metadata": {},
   "outputs": [],
   "source": [
    "Moma_artworks.info()"
   ]
  },
  {
   "cell_type": "code",
   "execution_count": null,
   "id": "4f9ddb15-659e-4e52-a6b3-eb41eea6bb68",
   "metadata": {},
   "outputs": [],
   "source": [
    "#sum of missing info from Moma artworks dataset by column\n",
    "Missingartworks = (Moma_artworks.isnull().sum()) + Moma_artworks.isin(['', 'unknown', 'NaN', 'N/A', 'Not available','()']).sum()"
   ]
  },
  {
   "cell_type": "code",
   "execution_count": null,
   "id": "4ecdc9ad-c220-4ad5-aec6-8bcecfbbc650",
   "metadata": {},
   "outputs": [],
   "source": [
    "#sum of missing info from Moma artworks dataset by column\n",
    "Missingartists = (Moma_artists.isnull().sum()) + Moma_artists.isin(['', 'unknown', 'NaN', 'N/A', 'Not available', '()']).sum()"
   ]
  },
  {
   "cell_type": "code",
   "execution_count": null,
   "id": "f74b7eb2-7f1e-464e-aeae-9a4e9b90bf47",
   "metadata": {},
   "outputs": [],
   "source": [
    "Missingartworks"
   ]
  },
  {
   "cell_type": "code",
   "execution_count": null,
   "id": "34f9c5ec-18c0-4986-8bbb-409a06e126f4",
   "metadata": {},
   "outputs": [],
   "source": [
    "Missingartists"
   ]
  },
  {
   "cell_type": "code",
   "execution_count": null,
   "id": "81d44f82-2b7d-4996-a58b-1ee4744019ff",
   "metadata": {},
   "outputs": [],
   "source": [
    "# Convert date to datetime\n",
    "Moma_artworks['Date'] = pd.to_datetime(Moma_artworks['Date'], errors='coerce')\n",
    "\n",
    "#Convert DateAcquired to datetime\n",
    "Moma_artworks['DateAcquired'] = pd.to_datetime(Moma_artworks['DateAcquired'], errors='coerce')\n",
    "\n",
    "# Convert ConstituentID to integer\n",
    "Moma_artworks['ConstituentID'] = pd.to_numeric(Moma_artworks['ConstituentID'], errors='coerce')"
   ]
  },
  {
   "cell_type": "code",
   "execution_count": null,
   "id": "d60ff5f8-7285-49d5-b384-f8d070d1617e",
   "metadata": {},
   "outputs": [],
   "source": [
    "# Convert enddate to datetime\n",
    "Moma_artists['BeginDate'] = pd.to_datetime(Moma_artists['BeginDate'], errors='coerce')\n",
    "Moma_artists['EndDate'] = pd.to_datetime(Moma_artists['EndDate'], errors='coerce')\n",
    "\n",
    "# Convert 'ConstituentID' to integer\n",
    "Moma_artists['ConstituentID'] = pd.to_numeric(Moma_artists['ConstituentID'], errors='coerce')"
   ]
  },
  {
   "cell_type": "code",
   "execution_count": null,
   "id": "e1ac2265-88ed-4f08-9137-145d620fb5ae",
   "metadata": {},
   "outputs": [],
   "source": [
    "Moma_artworks.dtypes"
   ]
  },
  {
   "cell_type": "code",
   "execution_count": null,
   "id": "666e0f71-bae1-47ce-9d45-46d727affbfb",
   "metadata": {},
   "outputs": [],
   "source": [
    "Moma_artists.dtypes"
   ]
  },
  {
   "cell_type": "code",
   "execution_count": null,
   "id": "bc935cd1-e8df-4e39-bd3d-f55027148412",
   "metadata": {},
   "outputs": [],
   "source": [
    "numeric_artists = ['BeginDate', 'EndDate']\n",
    "numeric_artworks = ['DateAcquired','Date', 'Circumference (cm)']"
   ]
  },
  {
   "cell_type": "code",
   "execution_count": null,
   "id": "c26a5702-3927-447a-8c0c-79af36b18856",
   "metadata": {},
   "outputs": [],
   "source": [
    "categorical_artists = ['Nationality', 'Gender']\n",
    "categorical_artworks = ['Artist', 'Nationality', 'Gender', 'Medium', 'Department']"
   ]
  },
  {
   "cell_type": "code",
   "execution_count": null,
   "id": "238f77ad-a53f-4cbe-bf1e-18de6fc48ca4",
   "metadata": {},
   "outputs": [],
   "source": [
    "#Numeric artist\n",
    "Moma_artists[numeric_artists].hist(bins=20, figsize=(10, 5))"
   ]
  },
  {
   "cell_type": "code",
   "execution_count": null,
   "id": "194775e5-5384-41f9-8da5-3c51b9181b3b",
   "metadata": {},
   "outputs": [],
   "source": [
    "#Numeric artworks\n",
    "Moma_artworks[numeric_artworks].hist(bins=20, figsize=(12, 8))"
   ]
  },
  {
   "cell_type": "code",
   "execution_count": null,
   "id": "a7b4f174-b8cb-4ff4-b202-b0248f49e513",
   "metadata": {},
   "outputs": [],
   "source": [
    "sns.countplot(y=\"Gender\", data=Moma_artworks)"
   ]
  },
  {
   "cell_type": "code",
   "execution_count": 11,
   "id": "fb7fbddd-e339-47c4-80af-c72dca29e46b",
   "metadata": {},
   "outputs": [
    {
     "data": {
      "text/plain": [
       "Gender\n",
       "(male)                                                                                                                                                                                                                       120171\n",
       "(female)                                                                                                                                                                                                                      19528\n",
       "()                                                                                                                                                                                                                             7694\n",
       "(male) (male)                                                                                                                                                                                                                  1700\n",
       "(male) (male) (male)                                                                                                                                                                                                           1062\n",
       "                                                                                                                                                                                                                              ...  \n",
       "(male) (male) (female) (female) (male) (male) (male) (female) (male) (female) (male) (female) (female) (male) (male) (male) (male) (male) (male) (male) (male) (male) (male) (male) (male) (male) (male) (male) (male) ()         1\n",
       "(male) (male) () (male) () ()                                                                                                                                                                                                     1\n",
       "(male) (male) (female) () ()                                                                                                                                                                                                      1\n",
       "(male) (male) () () ()                                                                                                                                                                                                            1\n",
       "() (male) (male) () (male) (male) (male)                                                                                                                                                                                          1\n",
       "Name: count, Length: 427, dtype: int64"
      ]
     },
     "execution_count": 11,
     "metadata": {},
     "output_type": "execute_result"
    }
   ],
   "source": [
    "Moma_artworks[\"Gender\"].value_counts()"
   ]
  },
  {
   "cell_type": "code",
   "execution_count": null,
   "id": "9a5c1732-2566-4899-bdcc-ee4e72427830",
   "metadata": {},
   "outputs": [],
   "source": [
    "for col in categorical_artworks:\n",
    "    plt.figure(figsize=(8, 4))\n",
    "    sns.countplot(y=col, data=Moma_artworks)\n",
    "    plt.show()"
   ]
  },
  {
   "cell_type": "code",
   "execution_count": null,
   "id": "0edbb0e9-2493-4ac5-bac5-a1ca30d939f1",
   "metadata": {},
   "outputs": [],
   "source": [
    "Moma_artworks.head()"
   ]
  },
  {
   "cell_type": "code",
   "execution_count": null,
   "id": "dec49c90-6d19-4471-8d39-66d6568f4e84",
   "metadata": {},
   "outputs": [],
   "source": []
  }
 ],
 "metadata": {
  "kernelspec": {
   "display_name": "Python 3 (ipykernel)",
   "language": "python",
   "name": "python3"
  },
  "language_info": {
   "codemirror_mode": {
    "name": "ipython",
    "version": 3
   },
   "file_extension": ".py",
   "mimetype": "text/x-python",
   "name": "python",
   "nbconvert_exporter": "python",
   "pygments_lexer": "ipython3",
   "version": "3.12.4"
  }
 },
 "nbformat": 4,
 "nbformat_minor": 5
}
